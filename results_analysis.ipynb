{
 "cells": [
  {
   "cell_type": "code",
   "execution_count": 1,
   "id": "67e50dfd-3ca1-4377-a249-f0321959840e",
   "metadata": {},
   "outputs": [
    {
     "name": "stderr",
     "output_type": "stream",
     "text": [
      "C:\\Users\\34659\\PycharmProjects\\master_thesis\\scRNAseq_across_human_tissues\\myenv\\lib\\site-packages\\tqdm\\auto.py:21: TqdmWarning: IProgress not found. Please update jupyter and ipywidgets. See https://ipywidgets.readthedocs.io/en/stable/user_install.html\n",
      "  from .autonotebook import tqdm as notebook_tqdm\n"
     ]
    }
   ],
   "source": [
    "import pandas as pd\n",
    "import scipy.io\n",
    "import numpy as np\n",
    "import scipy.sparse\n",
    "import os\n",
    "import src.preprocessing.data_cleaning as data_cleaning\n",
    "import src.preprocessing.normalization as normalization\n",
    "import src.preprocessing.feature_selection as feature_selection\n",
    "import src.preprocessing.dim_reduction as dim_reduction\n",
    "import src.analysis.clustering as clustering\n",
    "import src.analysis.cell_identification as cell_identification\n",
    "import src.evaluation.evaluation as evaluation\n",
    "\n",
    "def load_results(results_path, tissue):\n",
    "    \"\"\"\n",
    "    Load and display the first rows of the saved results CSV.\n",
    "\n",
    "    Parameters:\n",
    "    -----------\n",
    "    results_path : str\n",
    "        The base directory where results are stored.\n",
    "    tissue : str\n",
    "        The tissue type for which results are to be loaded.\n",
    "\n",
    "    Returns:\n",
    "    --------\n",
    "    pd.DataFrame\n",
    "        The loaded results dataframe.\n",
    "    \"\"\"\n",
    "    results_file_path = f'{results_path}/{tissue}_results/{tissue}_all_results.csv'\n",
    "    \n",
    "    if os.path.exists(results_file_path):\n",
    "        df = pd.read_csv(results_file_path)\n",
    "        return df\n",
    "    else:\n",
    "        print(f\"File not found: {results_file_path}\")\n",
    "        return None"
   ]
  },
  {
   "cell_type": "code",
   "execution_count": 2,
   "id": "dd743bf1-2fb0-42d8-b170-05a76566b218",
   "metadata": {},
   "outputs": [
    {
     "name": "stdout",
     "output_type": "stream",
     "text": [
      "Results loaded\n"
     ]
    }
   ],
   "source": [
    "results_df = load_results(\"./results\", \"Tumor\")\n",
    "print(\"Results loaded\")"
   ]
  },
  {
   "cell_type": "code",
   "execution_count": 7,
   "id": "b1b45294-af11-4eab-974f-66205b7f85ff",
   "metadata": {},
   "outputs": [
    {
     "name": "stdout",
     "output_type": "stream",
     "text": [
      "pipeline_id                                        FHMC_NB_SHVG_UMAP_MMC_MBA\n",
      "barcodes                   CID3586_AAACCTGAGAGTAATC,CID3586_AAACCTGAGGCTC...\n",
      "clusters                   1,1,1,1,3,1,3,8,1,1,0,1,1,0,1,3,1,1,1,1,0,1,1,...\n",
      "cell_types                 T-cells,T-cells,T-cells,T-cells,Myeloid,T-cell...\n",
      "Silhouette_Score                                                    0.472135\n",
      "Davies_Bouldin_Index                                                1.011322\n",
      "Calinski_Harabasz_Score                                         35643.218968\n",
      "ARI                                                                      1.0\n",
      "NMI                                                                      1.0\n",
      "V_measure                                                                1.0\n",
      "Accuracy                                                            0.513576\n",
      "Precision                                                           0.669535\n",
      "Recall                                                              0.513576\n",
      "F1_score                                                             0.56066\n",
      "Name: 479, dtype: object\n"
     ]
    }
   ],
   "source": [
    "print(results_df.iloc[-1])"
   ]
  },
  {
   "cell_type": "code",
   "execution_count": 4,
   "id": "a1487e31-c25e-4d72-8893-d1781aa811fc",
   "metadata": {},
   "outputs": [
    {
     "name": "stdout",
     "output_type": "stream",
     "text": [
      "0    6,5,8,1,5,0,3,7,6,2,2,2,8,6,2,2,2,4,1,6,3,0,8,...\n",
      "1    6,5,8,1,5,0,3,7,6,2,2,2,8,6,2,2,2,4,1,6,3,0,8,...\n",
      "2    6,5,8,1,5,0,3,7,6,2,2,2,8,6,2,2,2,4,1,6,3,0,8,...\n",
      "3    0,1,5,2,3,4,5,7,5,8,5,6,5,10,7,7,8,10,1,4,4,4,...\n",
      "4    0,1,5,2,3,4,5,7,5,8,5,6,5,10,7,7,8,10,1,4,4,4,...\n",
      "Name: clusters, dtype: object\n"
     ]
    }
   ],
   "source": [
    "print(results_df['clusters'].head())"
   ]
  },
  {
   "cell_type": "code",
   "execution_count": 5,
   "id": "91be9a5c-9b68-4019-87dc-37daefe6159a",
   "metadata": {},
   "outputs": [
    {
     "name": "stdout",
     "output_type": "stream",
     "text": [
      "0    [6, 5, 8, 1, 5, 0, 3, 7, 6, 2, 2, 2, 8, 6, 2, ...\n",
      "1    [6, 5, 8, 1, 5, 0, 3, 7, 6, 2, 2, 2, 8, 6, 2, ...\n",
      "2    [6, 5, 8, 1, 5, 0, 3, 7, 6, 2, 2, 2, 8, 6, 2, ...\n",
      "3    [0, 1, 5, 2, 3, 4, 5, 7, 5, 8, 5, 6, 5, 10, 7,...\n",
      "4    [0, 1, 5, 2, 3, 4, 5, 7, 5, 8, 5, 6, 5, 10, 7,...\n",
      "Name: clusters, dtype: object\n"
     ]
    }
   ],
   "source": [
    "results_df[\"clusters\"] = results_df[\"clusters\"].str.split(\",\").apply(lambda x: list(map(int, x)))  # Convertir a enteros\n",
    "print(results_df['clusters'].head())"
   ]
  }
 ],
 "metadata": {
  "kernelspec": {
   "display_name": "Python3.8 (MyENV)",
   "language": "python",
   "name": "myenv"
  },
  "language_info": {
   "codemirror_mode": {
    "name": "ipython",
    "version": 3
   },
   "file_extension": ".py",
   "mimetype": "text/x-python",
   "name": "python",
   "nbconvert_exporter": "python",
   "pygments_lexer": "ipython3",
   "version": "3.8.10"
  }
 },
 "nbformat": 4,
 "nbformat_minor": 5
}
