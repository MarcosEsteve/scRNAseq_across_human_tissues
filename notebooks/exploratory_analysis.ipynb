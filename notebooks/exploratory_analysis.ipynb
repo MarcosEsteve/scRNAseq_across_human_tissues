{
 "cells": [
  {
   "cell_type": "code",
   "execution_count": null,
   "id": "56279eee-f643-4e22-ab6c-3bffe7bd5f99",
   "metadata": {},
   "outputs": [],
   "source": [
    "import pandas as pd\n",
    "import scipy.io\n",
    "import numpy as np\n",
    "\n",
    "# Load expression matrix\n",
    "matrix = scipy.io.mmread('../data/PBMC/PBMC3K_hg19/matrix.mtx')\n",
    "\n",
    "# Load genes\n",
    "genes = pd.read_csv('../data/PBMC/PBMC3K_hg19/genes.tsv', \n",
    "                    header=None, sep='\\t', names=['gene_id', 'gene_symbol'])\n",
    "\n",
    "# Load barcodes\n",
    "barcodes = pd.read_csv('../data/PBMC/PBMC3K_hg19/barcodes.tsv', \n",
    "                       header=None, sep='\\t', names=['barcode'])\n",
    "\n",
    "# Transform sparse matrix into pandas sparse dataframe\n",
    "expression_matrix = pd.DataFrame.sparse.from_spmatrix(matrix)\n",
    "expression_matrix.index = genes['gene_symbol']\n",
    "expression_matrix.columns = barcodes['barcode']\n",
    "\n",
    "# Check basic information about the DataFrame\n",
    "print(expression_matrix.info())"
   ]
  },
  {
   "cell_type": "code",
   "execution_count": null,
   "id": "7c6aad2a-4c87-4cbc-8ff6-d1844599abfd",
   "metadata": {},
   "outputs": [],
   "source": [
    "# Calculate the mean expression of each gene\n",
    "mean_expression = expression_matrix.mean(axis=1)  # Mean per row (genes)\n",
    "\n",
    "# Calculate the total expression of each cell\n",
    "total_expression_per_cell = expression_matrix.sum(axis=0)  # Sum per column (cells)\n",
    "\n",
    "# Count non-zero values\n",
    "non_zero_counts = (expression_matrix != 0).sum(axis=1)  # Count of non-zero values per gene\n",
    "\n",
    "print(mean_expression.head())\n",
    "print(total_expression_per_cell.head())\n",
    "print(non_zero_counts.head())"
   ]
  },
  {
   "cell_type": "code",
   "execution_count": null,
   "id": "70393a7d-34dd-4430-9461-63cf057888fd",
   "metadata": {},
   "outputs": [],
   "source": [
    "dense_matrix = expression_matrix.sparse.to_dense()\n",
    "\n",
    "# For example, to calculate the standard deviation\n",
    "std_dev_per_gene = dense_matrix.std(axis=1)\n",
    "\n",
    "print(std_dev_per_gene.head())"
   ]
  }
 ],
 "metadata": {
  "kernelspec": {
   "display_name": "Python 3 (ipykernel)",
   "language": "python",
   "name": "python3"
  },
  "language_info": {
   "codemirror_mode": {
    "name": "ipython",
    "version": 3
   },
   "file_extension": ".py",
   "mimetype": "text/x-python",
   "name": "python",
   "nbconvert_exporter": "python",
   "pygments_lexer": "ipython3",
   "version": "3.9.0"
  }
 },
 "nbformat": 4,
 "nbformat_minor": 5
}
