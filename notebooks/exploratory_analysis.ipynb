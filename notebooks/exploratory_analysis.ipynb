{
 "cells": [
  {
   "cell_type": "code",
   "execution_count": 1,
   "id": "9505a5ce-be41-4c09-88d0-11d601c73c6e",
   "metadata": {},
   "outputs": [
    {
     "ename": "ModuleNotFoundError",
     "evalue": "No module named 'src'",
     "output_type": "error",
     "traceback": [
      "\u001b[1;31m---------------------------------------------------------------------------\u001b[0m",
      "\u001b[1;31mModuleNotFoundError\u001b[0m                       Traceback (most recent call last)",
      "Cell \u001b[1;32mIn[1], line 1\u001b[0m\n\u001b[1;32m----> 1\u001b[0m \u001b[38;5;28;01mimport\u001b[39;00m \u001b[38;5;21;01msrc\u001b[39;00m\u001b[38;5;21;01m.\u001b[39;00m\u001b[38;5;21;01mpreprocessing\u001b[39;00m\u001b[38;5;21;01m.\u001b[39;00m\u001b[38;5;21;01mdata_cleaning\u001b[39;00m \u001b[38;5;28;01mas\u001b[39;00m \u001b[38;5;21;01mdata_cleaning\u001b[39;00m\n\u001b[0;32m      2\u001b[0m \u001b[38;5;28;01mimport\u001b[39;00m \u001b[38;5;21;01msrc\u001b[39;00m\u001b[38;5;21;01m.\u001b[39;00m\u001b[38;5;21;01mpreprocessing\u001b[39;00m\u001b[38;5;21;01m.\u001b[39;00m\u001b[38;5;21;01mnormalization\u001b[39;00m \u001b[38;5;28;01mas\u001b[39;00m \u001b[38;5;21;01mnormalization\u001b[39;00m\n\u001b[0;32m      3\u001b[0m \u001b[38;5;28;01mimport\u001b[39;00m \u001b[38;5;21;01msrc\u001b[39;00m\u001b[38;5;21;01m.\u001b[39;00m\u001b[38;5;21;01mpreprocessing\u001b[39;00m\u001b[38;5;21;01m.\u001b[39;00m\u001b[38;5;21;01mfeature_selection\u001b[39;00m \u001b[38;5;28;01mas\u001b[39;00m \u001b[38;5;21;01mfeature_selection\u001b[39;00m\n",
      "\u001b[1;31mModuleNotFoundError\u001b[0m: No module named 'src'"
     ]
    }
   ],
   "source": [
    "import src.preprocessing.data_cleaning as data_cleaning\n",
    "import src.preprocessing.normalization as normalization\n",
    "import src.preprocessing.feature_selection as feature_selection\n",
    "import src.preprocessing.dim_reduction as dim_reduction\n",
    "import src.analysis.clustering as clustering\n",
    "import src.analysis.cell_identification as cell_identification\n",
    "import src.evaluation.evaluation as evaluation\n",
    "\n",
    "expression_matrix = load_expression_data_from_mtx(\"../data/PBMC/PBMC_68k/hg19/\")\n",
    "\n",
    "print(expression_matrix.info())"
   ]
  },
  {
   "cell_type": "code",
   "execution_count": null,
   "id": "7c6aad2a-4c87-4cbc-8ff6-d1844599abfd",
   "metadata": {},
   "outputs": [],
   "source": [
    "# Calculate the mean expression of each gene\n",
    "mean_expression = expression_matrix.mean(axis=1)  # Mean per row (genes)\n",
    "\n",
    "# Calculate the total expression of each cell\n",
    "total_expression_per_cell = expression_matrix.sum(axis=0)  # Sum per column (cells)\n",
    "\n",
    "# Count non-zero values\n",
    "non_zero_counts = (expression_matrix != 0).sum(axis=1)  # Count of non-zero values per gene\n",
    "\n",
    "print(mean_expression.head())\n",
    "print(total_expression_per_cell.head())\n",
    "print(non_zero_counts.head())"
   ]
  },
  {
   "cell_type": "code",
   "execution_count": null,
   "id": "d497c4d0-485e-48e3-801f-3896dba8af42",
   "metadata": {},
   "outputs": [
    {
     "name": "stdout",
     "output_type": "stream",
     "text": [
      "Empezamos\n",
      "Processing chunk rows AAACCCAAGGATTTCC-LKTX_190129_01_A01 to ATCGCCTTCACTGGGC-LKTX_190129_01_C01...\n",
      "Processing chunk rows ATCGCCTTCGAGAAAT-LKTX_190129_01_C01 to CATCCACAGGCCGCTT-LKTX_190129_01_E01...\n",
      "Processing chunk rows CATCCACCAAATGCGG-LKTX_190129_01_E01 to TTTCGATCACCATTCC-LKTX_190129_01_F01...\n",
      "Processing chunk rows TTTCGATCATACATCG-LKTX_190129_01_F01 to TCGCTTGGTTTACGTG-LKTX_190130_01_A01...\n"
     ]
    }
   ],
   "source": [
    "import pandas as pd\n",
    "import scipy.sparse\n",
    "import joblib\n",
    "\n",
    "# Ruta al archivo CSV\n",
    "csv_path = \"../data/Neuronal/M1/matrix.csv\"\n",
    "\n",
    "def read_and_process_csv_in_chunks(csv_path, chunk_size=10000, output_file='../data/Neuronal/M1/sparse_dataframe.joblib'):\n",
    "    \"\"\"\n",
    "    Read a large CSV file in chunks, transpose, convert to sparse, and concatenate.\n",
    "\n",
    "    Parameters:\n",
    "    - csv_path: str, path to the CSV file.\n",
    "    - chunk_size: int, number of rows to read in each chunk.\n",
    "\n",
    "    Returns:\n",
    "    - sparse_expression_matrix: Sparse DataFrame containing the full gene expression data.\n",
    "    \"\"\"\n",
    "    # Initialize a list to store processed chunks\n",
    "    processed_chunks = []\n",
    "    genes = None\n",
    "    barcodes = []\n",
    "    print(f\"Empezamos\", flush=True)\n",
    "    \n",
    "    # Read the CSV in chunks\n",
    "    for chunk in pd.read_csv(csv_path, sep=',', chunksize=chunk_size,  header=0, index_col=0):\n",
    "        print(f\"Processing chunk rows {chunk.index[0]} to {chunk.index[-1]}...\", flush=True)\n",
    "\n",
    "        # Keep genes\n",
    "        if genes is None:\n",
    "            genes = chunk.columns.tolist()\n",
    "        \n",
    "        # Keep barcodes\n",
    "        barcodes.extend(chunk.index.tolist())\n",
    "        \n",
    "        # Transpose the chunk so rows are genes and columns are barcodes\n",
    "        chunk = chunk.T\n",
    "        \n",
    "        # Convert to Sparse DataFrame\n",
    "        sparse_chunk = scipy.sparse.csr_matrix(chunk)\n",
    "        \n",
    "        # Add the processed chunk to the list\n",
    "        processed_chunks.append(sparse_chunk)\n",
    "        \n",
    "        # Free memory from the current chunk\n",
    "        del chunk  # Optional, to ensure the original chunk memory is freed\n",
    "        \n",
    "    # Concatenate all processed chunks into a single Sparse DataFrame\n",
    "    full_sparse_matrix = scipy.sparse.vstack(processed_chunks)\n",
    "    sparse_expression_matrix = pd.DataFrame.sparse.from_spmatrix(\n",
    "        full_sparse_matrix,\n",
    "        index=genes,\n",
    "        columns=barcodes\n",
    "    )\n",
    "\n",
    "    joblib.dump(sparse_expression_matrix, output_file)\n",
    "    \n",
    "    # Return the complete Sparse DataFrame\n",
    "    return sparse_expression_matrix\n",
    "\n",
    "def load_sparse_dataframe(input_file='../data/Neuronal/M1/sparse_dataframe.joblib'):\n",
    "    return joblib.load(input_file)\n",
    "\n",
    "\n",
    "# Read and process the CSV in chunks\n",
    "sparse_matrix = read_and_process_csv_in_chunks(csv_path)\n",
    "\n",
    "sparse_dataframe = load_sparse_dataframe('../data/Neuronal/M1/sparse_dataframe.joblib')\n",
    "\n",
    "# Show column names (First 10)\n",
    "print(\"Column Names Matrix (First 10):\", sparse_matrix.columns[:10])\n",
    "\n",
    "# Show head of the Sparse Expression Matrix\n",
    "print(\"\\nHead of the Sparse Expression Matrix:\")\n",
    "print(sparse_matrix.head())\n",
    "\n",
    "# Show data types of the Sparse Expression Matrix\n",
    "print(\"\\nData Types of the Sparse Expression Matrix:\")\n",
    "print(sparse_matrix.dtypes)\n",
    "\n",
    "# Show shape of the Sparse Expression Matrix\n",
    "print(\"\\nShape of the Sparse Expression Matrix:\", sparse_matrix.shape)\n",
    "\n",
    "# Mostrar información\n",
    "print(\"Dimensiones de la matriz:\", sparse_dataframe.shape)\n",
    "print(\"\\nPrimeros 5 genes:\", sparse_dataframe.index[:5])\n",
    "print(\"\\nPrimeros 5 barcodes:\", sparse_dataframe.columns[:5])\n",
    "print(\"\\nMuestra de la matriz:\")\n",
    "print(sparse_dataframe.iloc[:5, :5])"
   ]
  },
  {
   "cell_type": "code",
   "execution_count": null,
   "id": "a1fd1a4d-308b-49b6-92df-69454a295b43",
   "metadata": {},
   "outputs": [],
   "source": []
  }
 ],
 "metadata": {
  "kernelspec": {
   "display_name": "Python 3 (ipykernel)",
   "language": "python",
   "name": "python3"
  },
  "language_info": {
   "codemirror_mode": {
    "name": "ipython",
    "version": 3
   },
   "file_extension": ".py",
   "mimetype": "text/x-python",
   "name": "python",
   "nbconvert_exporter": "python",
   "pygments_lexer": "ipython3",
   "version": "3.9.0"
  }
 },
 "nbformat": 4,
 "nbformat_minor": 5
}
